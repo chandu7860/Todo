{
 "cells": [
  {
   "cell_type": "code",
   "execution_count": 2,
   "metadata": {},
   "outputs": [],
   "source": [
    "# Convolutional Neural Network (odd tomatoes vs rotten tomatoes)\n",
    "\n",
    "# Building the CNN\n",
    "\n",
    "#Importing Libraries\n",
    "from keras.preprocessing.image import ImageDataGenerator\n",
    "from keras.models import Sequential \n",
    "from keras.layers import Conv2D,MaxPooling2D,Activation,Dropout,Flatten,Dense\n",
    "from keras import backend as K\n",
    "import numpy as np\n",
    "from keras.preprocessing import image\n",
    "from keras import optimizers\n",
    "\n",
    "import matplotlib.pyplot as plt\n",
    "from sklearn import svm, datasets\n",
    "from sklearn.model_selection import train_test_split\n",
    "from sklearn.metrics import confusion_matrix\n",
    "import itertools\n",
    "import numpy as np\n",
    "import matplotlib.pyplot as plt"
   ]
  },
  {
   "cell_type": "code",
   "execution_count": 3,
   "metadata": {},
   "outputs": [],
   "source": [
    "#loading data\n",
    "\n",
    "image_width=150\n",
    "image_height=150\n",
    "\n",
    "train_data_dir='odd_vs_rotten/tomatoes_data/train'\n",
    "validation_data_dir='odd_vs_rotten/tomatoes_data/validation'\n",
    "test_data_dir='odd_vs_rotten/tomatoes_data/test'\n",
    "\n",
    "train_sample=100\n",
    "validation_sample=30\n",
    "test_sample=10\n",
    "\n",
    "epochs=50\n",
    "batch_size=12\n",
    "test_size=30\n",
    "\n"
   ]
  },
  {
   "cell_type": "code",
   "execution_count": 4,
   "metadata": {},
   "outputs": [],
   "source": [
    "if K.image_data_format() == 'channels_first':\n",
    "    input_shape= (3,image_width,image_height)\n",
    "else :\n",
    "    input_shape= (image_width,image_height,3)"
   ]
  },
  {
   "cell_type": "code",
   "execution_count": 5,
   "metadata": {},
   "outputs": [],
   "source": [
    "# Data Augmentation\n",
    "\n",
    "train_datagen= ImageDataGenerator(rotation_range=40,\n",
    "                                  width_shift_range=0.2,\n",
    "                                  height_shift_range=0.2,\n",
    "                                  shear_range=0.2,\n",
    "                                  zoom_range=0.2,\n",
    "                                  rescale=1./255,\n",
    "                                  horizontal_flip=True,\n",
    "                                 fill_mode='nearest');\n",
    "\n",
    "validation_datagen= ImageDataGenerator(rescale=1./255)\n",
    "test_datagen=ImageDataGenerator(rescale=1./255)"
   ]
  },
  {
   "cell_type": "code",
   "execution_count": 45,
   "metadata": {},
   "outputs": [
    {
     "name": "stdout",
     "output_type": "stream",
     "text": [
      "Found 200 images belonging to 2 classes.\n",
      "Found 60 images belonging to 2 classes.\n",
      "Found 30 images belonging to 2 classes.\n"
     ]
    }
   ],
   "source": [
    "train_genarator= train_datagen.flow_from_directory(train_data_dir,target_size=(image_width,image_height),batch_size=batch_size,class_mode='binary')\n",
    "\n",
    "\n",
    "validation_genarator= train_datagen.flow_from_directory(validation_data_dir,target_size=(image_width,image_height),batch_size=batch_size,class_mode='binary')\n",
    "\n",
    "\n",
    "test_genarator= train_datagen.flow_from_directory(test_data_dir,target_size=(image_width,image_height),batch_size=test_size,class_mode='binary')"
   ]
  },
  {
   "cell_type": "code",
   "execution_count": 7,
   "metadata": {},
   "outputs": [],
   "source": [
    "#build model\n",
    "\n",
    "# Initialising the CNN\n",
    "\n",
    "model = Sequential()"
   ]
  },
  {
   "cell_type": "code",
   "execution_count": 9,
   "metadata": {},
   "outputs": [],
   "source": [
    "# Convolution\n",
    "model.add(Conv2D(32,(3,3),input_shape=input_shape))\n",
    "# Activation Function\n",
    "model.add(Activation('relu'))\n",
    "# Pooling\n",
    "model.add(MaxPooling2D(pool_size=(2,2)))"
   ]
  },
  {
   "cell_type": "code",
   "execution_count": 10,
   "metadata": {},
   "outputs": [],
   "source": [
    "# Adding a second convolutional layer\n",
    "model.add(Conv2D(32,(3,3),input_shape=input_shape))\n",
    "model.add(Activation('relu'))\n",
    "model.add(MaxPooling2D(pool_size=(2,2)))\n",
    "\n",
    "\n",
    "# Adding a third convolutional layer\n",
    "model.add(Conv2D(64,(3,3),input_shape=input_shape))\n",
    "model.add(Activation('relu'))\n",
    "model.add(MaxPooling2D(pool_size=(2,2)))"
   ]
  },
  {
   "cell_type": "code",
   "execution_count": 11,
   "metadata": {},
   "outputs": [],
   "source": [
    "# Flattening\n",
    "model.add(Flatten())"
   ]
  },
  {
   "cell_type": "code",
   "execution_count": 12,
   "metadata": {},
   "outputs": [],
   "source": [
    "# Full connection\n",
    "model.add(Dense(64))\n",
    "model.add(Activation('relu'))\n",
    "model.add(Dropout(0.2))"
   ]
  },
  {
   "cell_type": "code",
   "execution_count": 13,
   "metadata": {},
   "outputs": [],
   "source": [
    "model.add(Dense(1))\n",
    "model.add(Activation('sigmoid'))"
   ]
  },
  {
   "cell_type": "code",
   "execution_count": 14,
   "metadata": {},
   "outputs": [
    {
     "name": "stdout",
     "output_type": "stream",
     "text": [
      "Model: \"sequential_1\"\n",
      "_________________________________________________________________\n",
      "Layer (type)                 Output Shape              Param #   \n",
      "=================================================================\n",
      "conv2d_1 (Conv2D)            (None, 148, 148, 32)      896       \n",
      "_________________________________________________________________\n",
      "activation_1 (Activation)    (None, 148, 148, 32)      0         \n",
      "_________________________________________________________________\n",
      "max_pooling2d_1 (MaxPooling2 (None, 74, 74, 32)        0         \n",
      "_________________________________________________________________\n",
      "conv2d_2 (Conv2D)            (None, 72, 72, 32)        9248      \n",
      "_________________________________________________________________\n",
      "activation_2 (Activation)    (None, 72, 72, 32)        0         \n",
      "_________________________________________________________________\n",
      "max_pooling2d_2 (MaxPooling2 (None, 36, 36, 32)        0         \n",
      "_________________________________________________________________\n",
      "conv2d_3 (Conv2D)            (None, 34, 34, 32)        9248      \n",
      "_________________________________________________________________\n",
      "activation_3 (Activation)    (None, 34, 34, 32)        0         \n",
      "_________________________________________________________________\n",
      "max_pooling2d_3 (MaxPooling2 (None, 17, 17, 32)        0         \n",
      "_________________________________________________________________\n",
      "conv2d_4 (Conv2D)            (None, 15, 15, 64)        18496     \n",
      "_________________________________________________________________\n",
      "activation_4 (Activation)    (None, 15, 15, 64)        0         \n",
      "_________________________________________________________________\n",
      "max_pooling2d_4 (MaxPooling2 (None, 7, 7, 64)          0         \n",
      "_________________________________________________________________\n",
      "flatten_1 (Flatten)          (None, 3136)              0         \n",
      "_________________________________________________________________\n",
      "dense_1 (Dense)              (None, 64)                200768    \n",
      "_________________________________________________________________\n",
      "activation_5 (Activation)    (None, 64)                0         \n",
      "_________________________________________________________________\n",
      "dropout_1 (Dropout)          (None, 64)                0         \n",
      "_________________________________________________________________\n",
      "dense_2 (Dense)              (None, 1)                 65        \n",
      "_________________________________________________________________\n",
      "activation_6 (Activation)    (None, 1)                 0         \n",
      "=================================================================\n",
      "Total params: 238,721\n",
      "Trainable params: 238,721\n",
      "Non-trainable params: 0\n",
      "_________________________________________________________________\n"
     ]
    }
   ],
   "source": [
    "model.summary()"
   ]
  },
  {
   "cell_type": "code",
   "execution_count": 16,
   "metadata": {},
   "outputs": [],
   "source": [
    "# Compiling the CNN\n",
    "model.compile(loss='binary_crossentropy',optimizer='RMSprop',metrics=['accuracy'])"
   ]
  },
  {
   "cell_type": "code",
   "execution_count": 17,
   "metadata": {
    "scrolled": true
   },
   "outputs": [
    {
     "name": "stdout",
     "output_type": "stream",
     "text": [
      "starting training....\n",
      "WARNING:tensorflow:From C:\\Users\\srikanth\\anaconda3\\lib\\site-packages\\keras\\backend\\tensorflow_backend.py:422: The name tf.global_variables is deprecated. Please use tf.compat.v1.global_variables instead.\n",
      "\n",
      "Epoch 1/50\n",
      "100/100 [==============================] - 23s 228ms/step - loss: 0.6248 - accuracy: 0.6701 - val_loss: 0.7757 - val_accuracy: 0.6611\n",
      "Epoch 2/50\n",
      "100/100 [==============================] - 25s 253ms/step - loss: 0.5467 - accuracy: 0.7406 - val_loss: 0.7305 - val_accuracy: 0.7444\n",
      "Epoch 3/50\n",
      "100/100 [==============================] - 25s 253ms/step - loss: 0.4976 - accuracy: 0.7568 - val_loss: 0.2820 - val_accuracy: 0.7306\n",
      "Epoch 4/50\n",
      "100/100 [==============================] - 25s 254ms/step - loss: 0.4924 - accuracy: 0.7934 - val_loss: 0.6243 - val_accuracy: 0.6750\n",
      "Epoch 5/50\n",
      "100/100 [==============================] - 27s 271ms/step - loss: 0.4605 - accuracy: 0.7975 - val_loss: 0.2504 - val_accuracy: 0.7528\n",
      "Epoch 6/50\n",
      "100/100 [==============================] - 26s 261ms/step - loss: 0.4443 - accuracy: 0.8095 - val_loss: 1.0229 - val_accuracy: 0.6972\n",
      "Epoch 7/50\n",
      "100/100 [==============================] - 27s 265ms/step - loss: 0.4373 - accuracy: 0.8072 - val_loss: 0.5665 - val_accuracy: 0.7222\n",
      "Epoch 8/50\n",
      "100/100 [==============================] - 27s 267ms/step - loss: 0.4261 - accuracy: 0.8110 - val_loss: 0.5313 - val_accuracy: 0.7500\n",
      "Epoch 9/50\n",
      "100/100 [==============================] - 25s 253ms/step - loss: 0.4031 - accuracy: 0.8214 - val_loss: 0.8753 - val_accuracy: 0.7750\n",
      "Epoch 10/50\n",
      "100/100 [==============================] - 25s 254ms/step - loss: 0.3893 - accuracy: 0.8299 - val_loss: 0.6137 - val_accuracy: 0.7917\n",
      "Epoch 11/50\n",
      "100/100 [==============================] - 25s 253ms/step - loss: 0.3648 - accuracy: 0.8384 - val_loss: 0.7980 - val_accuracy: 0.7472\n",
      "Epoch 12/50\n",
      "100/100 [==============================] - 25s 253ms/step - loss: 0.3507 - accuracy: 0.8410 - val_loss: 0.6188 - val_accuracy: 0.8167\n",
      "Epoch 13/50\n",
      "100/100 [==============================] - 25s 254ms/step - loss: 0.3496 - accuracy: 0.8441 - val_loss: 0.2309 - val_accuracy: 0.7333\n",
      "Epoch 14/50\n",
      "100/100 [==============================] - 25s 253ms/step - loss: 0.3385 - accuracy: 0.8635 - val_loss: 0.5423 - val_accuracy: 0.7694\n",
      "Epoch 15/50\n",
      "100/100 [==============================] - 25s 255ms/step - loss: 0.3217 - accuracy: 0.8754 - val_loss: 0.6270 - val_accuracy: 0.7750\n",
      "Epoch 16/50\n",
      "100/100 [==============================] - 28s 283ms/step - loss: 0.3104 - accuracy: 0.8776 - val_loss: 0.5818 - val_accuracy: 0.7833\n",
      "Epoch 17/50\n",
      "100/100 [==============================] - 27s 270ms/step - loss: 0.2946 - accuracy: 0.8801 - val_loss: 0.3762 - val_accuracy: 0.7889\n",
      "Epoch 18/50\n",
      "100/100 [==============================] - 27s 268ms/step - loss: 0.3142 - accuracy: 0.8776 - val_loss: 0.3130 - val_accuracy: 0.7639\n",
      "Epoch 19/50\n",
      "100/100 [==============================] - 27s 268ms/step - loss: 0.2726 - accuracy: 0.8844 - val_loss: 0.4658 - val_accuracy: 0.8250\n",
      "Epoch 20/50\n",
      "100/100 [==============================] - 26s 255ms/step - loss: 0.2808 - accuracy: 0.8881 - val_loss: 1.0759 - val_accuracy: 0.7833\n",
      "Epoch 21/50\n",
      "100/100 [==============================] - 27s 268ms/step - loss: 0.2567 - accuracy: 0.8925 - val_loss: 0.6534 - val_accuracy: 0.8139\n",
      "Epoch 22/50\n",
      "100/100 [==============================] - 28s 283ms/step - loss: 0.2734 - accuracy: 0.8941 - val_loss: 0.3833 - val_accuracy: 0.8250\n",
      "Epoch 23/50\n",
      "100/100 [==============================] - 26s 257ms/step - loss: 0.2800 - accuracy: 0.8920 - val_loss: 0.2864 - val_accuracy: 0.7639\n",
      "Epoch 24/50\n",
      "100/100 [==============================] - 26s 259ms/step - loss: 0.2476 - accuracy: 0.9014 - val_loss: 0.2220 - val_accuracy: 0.7917\n",
      "Epoch 25/50\n",
      "100/100 [==============================] - 25s 253ms/step - loss: 0.2428 - accuracy: 0.9022 - val_loss: 0.5112 - val_accuracy: 0.7583\n",
      "Epoch 26/50\n",
      "100/100 [==============================] - 25s 250ms/step - loss: 0.2323 - accuracy: 0.9167 - val_loss: 0.3048 - val_accuracy: 0.7500\n",
      "Epoch 27/50\n",
      "100/100 [==============================] - 25s 253ms/step - loss: 0.2338 - accuracy: 0.9051 - val_loss: 1.0690 - val_accuracy: 0.7889\n",
      "Epoch 28/50\n",
      "100/100 [==============================] - 25s 251ms/step - loss: 0.2367 - accuracy: 0.9189 - val_loss: 0.7297 - val_accuracy: 0.6000\n",
      "Epoch 29/50\n",
      "100/100 [==============================] - 26s 259ms/step - loss: 0.2390 - accuracy: 0.9090 - val_loss: 1.0626 - val_accuracy: 0.8056\n",
      "Epoch 30/50\n",
      "100/100 [==============================] - 26s 259ms/step - loss: 0.2502 - accuracy: 0.9133 - val_loss: 1.0135 - val_accuracy: 0.7778\n",
      "Epoch 31/50\n",
      "100/100 [==============================] - 26s 257ms/step - loss: 0.1979 - accuracy: 0.9243 - val_loss: 1.5379 - val_accuracy: 0.7944\n",
      "Epoch 32/50\n",
      "100/100 [==============================] - 25s 254ms/step - loss: 0.2532 - accuracy: 0.9254 - val_loss: 3.4081 - val_accuracy: 0.7528\n",
      "Epoch 33/50\n",
      "100/100 [==============================] - 25s 252ms/step - loss: 0.2390 - accuracy: 0.9175 - val_loss: 0.1891 - val_accuracy: 0.8167\n",
      "Epoch 34/50\n",
      "100/100 [==============================] - 25s 252ms/step - loss: 0.2263 - accuracy: 0.9252 - val_loss: 0.6523 - val_accuracy: 0.7694\n",
      "Epoch 35/50\n",
      "100/100 [==============================] - 25s 252ms/step - loss: 0.2314 - accuracy: 0.9260 - val_loss: 2.5247 - val_accuracy: 0.7917\n",
      "Epoch 36/50\n",
      "100/100 [==============================] - 26s 256ms/step - loss: 0.2404 - accuracy: 0.9314 - val_loss: 0.1547 - val_accuracy: 0.8278\n",
      "Epoch 37/50\n",
      "100/100 [==============================] - 25s 254ms/step - loss: 0.2195 - accuracy: 0.9164 - val_loss: 0.6714 - val_accuracy: 0.7583\n",
      "Epoch 38/50\n",
      "100/100 [==============================] - 25s 254ms/step - loss: 0.1866 - accuracy: 0.9271 - val_loss: 1.4412 - val_accuracy: 0.8056\n",
      "Epoch 39/50\n",
      "100/100 [==============================] - 25s 253ms/step - loss: 0.2130 - accuracy: 0.9249 - val_loss: 0.9931 - val_accuracy: 0.7639\n",
      "Epoch 40/50\n",
      "100/100 [==============================] - 25s 253ms/step - loss: 0.2018 - accuracy: 0.9311 - val_loss: 0.4995 - val_accuracy: 0.7833\n",
      "Epoch 41/50\n",
      "100/100 [==============================] - 25s 252ms/step - loss: 0.2102 - accuracy: 0.9263 - val_loss: 0.4976 - val_accuracy: 0.8167\n",
      "Epoch 42/50\n",
      "100/100 [==============================] - 25s 250ms/step - loss: 0.1880 - accuracy: 0.9369 - val_loss: 0.8592 - val_accuracy: 0.7778\n",
      "Epoch 43/50\n",
      "100/100 [==============================] - 25s 251ms/step - loss: 0.1844 - accuracy: 0.9407 - val_loss: 0.6389 - val_accuracy: 0.8056\n",
      "Epoch 44/50\n",
      "100/100 [==============================] - 27s 268ms/step - loss: 0.1918 - accuracy: 0.9345 - val_loss: 0.2484 - val_accuracy: 0.7944\n",
      "Epoch 45/50\n",
      "100/100 [==============================] - 27s 266ms/step - loss: 0.1632 - accuracy: 0.9405 - val_loss: 0.2763 - val_accuracy: 0.6833\n",
      "Epoch 46/50\n",
      "100/100 [==============================] - 25s 253ms/step - loss: 0.1697 - accuracy: 0.9422 - val_loss: 0.0786 - val_accuracy: 0.7833\n",
      "Epoch 47/50\n",
      "100/100 [==============================] - 26s 256ms/step - loss: 0.2217 - accuracy: 0.9254 - val_loss: 0.0190 - val_accuracy: 0.8139\n",
      "Epoch 48/50\n",
      "100/100 [==============================] - 25s 253ms/step - loss: 0.1851 - accuracy: 0.9541 - val_loss: 0.3512 - val_accuracy: 0.8028\n",
      "Epoch 49/50\n",
      "100/100 [==============================] - 25s 254ms/step - loss: 0.2157 - accuracy: 0.9286 - val_loss: 5.4693 - val_accuracy: 0.7833\n",
      "Epoch 50/50\n",
      "100/100 [==============================] - 25s 252ms/step - loss: 0.1897 - accuracy: 0.9498 - val_loss: 0.4544 - val_accuracy: 0.8194\n"
     ]
    },
    {
     "data": {
      "text/plain": [
       "<keras.callbacks.callbacks.History at 0x1b79c830208>"
      ]
     },
     "execution_count": 17,
     "metadata": {},
     "output_type": "execute_result"
    }
   ],
   "source": [
    "# Fitting the CNN to the images\n",
    "\n",
    "print('starting training....')\n",
    "\n",
    "model.fit_generator(train_genarator,steps_per_epoch=train_sample,\n",
    "                    epochs=epochs,validation_data=validation_genarator,validation_steps=validation_sample)"
   ]
  },
  {
   "cell_type": "code",
   "execution_count": 18,
   "metadata": {},
   "outputs": [
    {
     "name": "stdout",
     "output_type": "stream",
     "text": [
      "training finished!!\n"
     ]
    }
   ],
   "source": [
    "print('training finished!!')"
   ]
  },
  {
   "cell_type": "code",
   "execution_count": 46,
   "metadata": {},
   "outputs": [],
   "source": [
    "#testing model\n",
    "test_imgs,test_labels =next(test_genarator)"
   ]
  },
  {
   "cell_type": "code",
   "execution_count": 47,
   "metadata": {},
   "outputs": [],
   "source": [
    "prediction = model.predict_generator(test_genarator,steps=1)"
   ]
  },
  {
   "cell_type": "code",
   "execution_count": 48,
   "metadata": {},
   "outputs": [],
   "source": [
    "def round_of_predictions(prediction):\n",
    "    for i in range(0,30):\n",
    "        if prediction[i]<=0.5 :\n",
    "            prediction[i]=0\n",
    "        else :\n",
    "            prediction[i]=1"
   ]
  },
  {
   "cell_type": "code",
   "execution_count": 49,
   "metadata": {},
   "outputs": [],
   "source": [
    "round_of_predictions(prediction)"
   ]
  },
  {
   "cell_type": "code",
   "execution_count": 50,
   "metadata": {},
   "outputs": [],
   "source": [
    "\n",
    "def plot_confusion_matrix(cm, classes,\n",
    "                          normalize=False,\n",
    "                          title='Confusion matrix',\n",
    "                          cmap=plt.cm.Blues):\n",
    "    \"\"\"\n",
    "    This function prints and plots the confusion matrix.\n",
    "    Normalization can be applied by setting `normalize=True`.\n",
    "    \"\"\"\n",
    "    plt.imshow(cm, interpolation='nearest', cmap=cmap)\n",
    "    plt.title(title)\n",
    "    plt.colorbar()\n",
    "    tick_marks = np.arange(len(classes))\n",
    "    plt.xticks(tick_marks, classes, rotation=45)\n",
    "    plt.yticks(tick_marks, classes)\n",
    "\n",
    "    if normalize:\n",
    "        cm = cm.astype('float') / cm.sum(axis=1)[:, np.newaxis]\n",
    "        print(\"Normalized confusion matrix\")\n",
    "    else:\n",
    "        print('Confusion matrix, without normalization')\n",
    "\n",
    "    print(cm)\n",
    "\n",
    "    thresh = cm.max() / 2.\n",
    "    for i, j in itertools.product(range(cm.shape[0]), range(cm.shape[1])):\n",
    "        plt.text(j, i, cm[i, j],\n",
    "                 horizontalalignment=\"center\",\n",
    "                 color=\"white\" if cm[i, j] > thresh else \"black\")\n",
    "\n",
    "    plt.tight_layout()\n",
    "    plt.ylabel('True label')\n",
    "    plt.xlabel('Predicted label')\n"
   ]
  },
  {
   "cell_type": "code",
   "execution_count": 51,
   "metadata": {},
   "outputs": [],
   "source": [
    "cn=confusion_matrix(test_labels,prediction)"
   ]
  },
  {
   "cell_type": "code",
   "execution_count": 52,
   "metadata": {},
   "outputs": [
    {
     "name": "stdout",
     "output_type": "stream",
     "text": [
      "Confusion matrix, without normalization\n",
      "[[14  1]\n",
      " [ 2 13]]\n"
     ]
    },
    {
     "data": {
      "image/png": "[encoded data removed]",
      "text/plain": [
       "<Figure size 432x288 with 2 Axes>"
      ]
     },
     "metadata": {
      "needs_background": "light"
     },
     "output_type": "display_data"
    }
   ],
   "source": [
    "cn_plot_labels=['odd','rotten']\n",
    "plot_confusion_matrix(cn,cn_plot_labels,title='Confusion Matrix')"
   ]
  },
  {
   "cell_type": "code",
   "execution_count": 56,
   "metadata": {},
   "outputs": [
    {
     "data": {
      "image/png": "[encoded data removed]",
      "text/plain": [
       "<Figure size 432x288 with 1 Axes>"
      ]
     },
     "metadata": {
      "needs_background": "light"
     },
     "output_type": "display_data"
    }
   ],
   "source": [
    "#Prediction of Single image\n",
    "%matplotlib inline\n",
    "import tensorflow\n",
    "from tensorflow.keras.preprocessing import image\n",
    "import matplotlib.pyplot as plt\n",
    "import numpy as np\n",
    "img1 = image.load_img('odd_vs_rotten/tomatoes_data/test/rotten/images (2).jpg',target_size=(150,150))\n",
    "img = image.img_to_array(img1)\n",
    "img = img/255\n",
    "# create a batch of size 1 [N,H,W,C]\n",
    "img = np.expand_dims(img, axis=0)\n",
    "prediction = model.predict(img, batch_size=None,steps=1) #gives all class prob.\n",
    "if(prediction[:,:]>0.5):\n",
    "    value ='rotten :%1.2f'%(prediction[0,0])\n",
    "    plt.text(20, 62,value,color='red',fontsize=18,bbox=dict(facecolor='white',alpha=0.8))\n",
    "else:\n",
    "    value ='odd :%1.2f'%(1.0-prediction[0,0])\n",
    "    plt.text(20, 62,value,color='red',fontsize=18,bbox=dict(facecolor='white',alpha=0.8))\n",
    "\n",
    "plt.imshow(img1)\n",
    "plt.show()"
   ]
  },
  {
   "cell_type": "code",
   "execution_count": 57,
   "metadata": {},
   "outputs": [],
   "source": [
    "#Prediction of Single image\n",
    "\n",
    "img_pre=image.load_img('odd_vs_rotten/tomatoes_data/test/odd/images (55).jpg',target_size=(150,150))\n",
    "img_pre=image.img_to_array(img_pre)\n",
    "img_pre=np.expand_dims(img_pre,axis=0)"
   ]
  },
  {
   "cell_type": "code",
   "execution_count": 58,
   "metadata": {},
   "outputs": [
    {
     "name": "stdout",
     "output_type": "stream",
     "text": [
      "[[0.]]\n"
     ]
    }
   ],
   "source": [
    "result=model.predict(img_pre)\n",
    "print(result)"
   ]
  },
  {
   "cell_type": "code",
   "execution_count": 59,
   "metadata": {},
   "outputs": [
    {
     "name": "stdout",
     "output_type": "stream",
     "text": [
      "odd\n"
     ]
    }
   ],
   "source": [
    "if result[0][0]==0:\n",
    "    print(\"odd\")\n",
    "else :\n",
    "    print(\"rotten\")"
   ]
  },
  {
   "cell_type": "code",
   "execution_count": 60,
   "metadata": {},
   "outputs": [
    {
     "name": "stdout",
     "output_type": "stream",
     "text": [
      "model saved to disk....\n"
     ]
    }
   ],
   "source": [
    "##Save model to json\n",
    "import os\n",
    "from keras.models import model_from_json\n",
    "\n",
    "clssf = model.to_json()\n",
    "with open(\"OddOrRotten.json\", \"w\") as json_file:\n",
    "    json_file.write(clssf)\n",
    "model.save_weights(\"OddOrRotten.h5\")\n",
    "print(\"model saved to disk....\")"
   ]
  },
  {
   "cell_type": "code",
   "execution_count": null,
   "metadata": {},
   "outputs": [],
   "source": []
  }
 ],
 "metadata": {
  "kernelspec": {
   "display_name": "Python 3",
   "language": "python",
   "name": "python3"
  },
  "language_info": {
   "codemirror_mode": {
    "name": "ipython",
    "version": 3
   },
   "file_extension": ".py",
   "mimetype": "text/x-python",
   "name": "python",
   "nbconvert_exporter": "python",
   "pygments_lexer": "ipython3",
   "version": "3.7.6"
  }
 },
 "nbformat": 4,
 "nbformat_minor": 4
}
